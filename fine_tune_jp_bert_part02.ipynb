{
  "nbformat": 4,
  "nbformat_minor": 0,
  "metadata": {
    "kernelspec": {
      "display_name": "Python 3",
      "language": "python",
      "name": "python3"
    },
    "language_info": {
      "codemirror_mode": {
        "name": "ipython",
        "version": 3
      },
      "file_extension": ".py",
      "mimetype": "text/x-python",
      "name": "python",
      "nbconvert_exporter": "python",
      "pygments_lexer": "ipython3",
      "version": "3.8.5"
    },
    "colab": {
      "name": "fine-tune-jp-bert-part02.ipynb",
      "provenance": [],
      "collapsed_sections": [],
      "toc_visible": true,
      "include_colab_link": true
    },
    "accelerator": "GPU"
  },
  "cells": [
    {
      "cell_type": "markdown",
      "metadata": {
        "id": "view-in-github",
        "colab_type": "text"
      },
      "source": [
        "<a href=\"https://colab.research.google.com/github/hnishi/handson-language-models/blob/main/fine_tune_jp_bert_part02.ipynb\" target=\"_parent\"><img src=\"https://colab.research.google.com/assets/colab-badge.svg\" alt=\"Open In Colab\"/></a>"
      ]
    },
    {
      "cell_type": "markdown",
      "metadata": {
        "id": "ia8cA7knqvOV"
      },
      "source": [
        "# huggingface transformers を使って日本語 BERT モデルをファインチューニングして感情分析 (with google colab) part02\n",
        "\n",
        "part01 に引き続いて、今回は、まとまったデータセットを使い、transformers の Trainer class を使いファインチューニングする方法を記載します。\n",
        "\n",
        "また、学習後の評価方法に関しても記載します。\n",
        "\n",
        "なお、今回はまとまった量 (4000 件程度) のデータを使って学習を行いますので、GPU の使用を推奨します (著者は google colab を使用して動作確認しています)。\n",
        "\n",
        "---\n",
        "\n",
        "この記事は、part02 です。\n",
        "\n",
        "すべての記事の目次は以下をご参照ください。\n",
        "\n",
        "https://github.com/hnishi/handson-language-models/blob/main/README.md\n",
        "\n",
        "## 参考\n",
        "\n",
        "- [huggingface transformers ドキュメント](https://huggingface.co/transformers/)\n",
        "- [BERT 論文](https://arxiv.org/abs/1810.04805)\n",
        "- [Fine-tuning a BERT model with transformers](https://towardsdatascience.com/fine-tuning-a-bert-model-with-transformers-c8e49c4e008b)"
      ]
    },
    {
      "cell_type": "markdown",
      "metadata": {
        "id": "r5Z_zhsNqvOb"
      },
      "source": [
        "## 必要なライブラリのインストール"
      ]
    },
    {
      "cell_type": "code",
      "metadata": {
        "id": "-QtQP6vfqvOb"
      },
      "source": [
        "!pip install -q transformers"
      ],
      "execution_count": null,
      "outputs": []
    },
    {
      "cell_type": "code",
      "metadata": {
        "id": "C9UCrH2nWSoE"
      },
      "source": [
        "import pandas as pd\n",
        "import torch\n",
        "from transformers import BertTokenizer, BertForSequenceClassification, pipeline\n",
        "from transformers import AdamW"
      ],
      "execution_count": null,
      "outputs": []
    },
    {
      "cell_type": "markdown",
      "metadata": {
        "id": "Yamyi7UdUiDh"
      },
      "source": [
        "## ファインチューニングのための学習データの準備\n",
        "\n",
        "株式会社リクルート 様が公開している [Japanese Realistic Textual Entailment Corpus (含意関係データセット) ](https://github.com/megagonlabs/jrte-corpus) を使わせていただきます。\n",
        "\n",
        "下記、制限があるため注意します。\n",
        "\n",
        "> リクルートは本データセットを非営利的な公共利用のために公開しています。分析・研究・その成果を発表するために必要な範囲を超えて利用すること（営利目的利用）は固く禁じます。\n",
        "\n",
        "## References\n",
        "\n",
        "1. 林部祐太．\n",
        "    知識の整理のための根拠付き自然文間含意関係コーパスの構築．\n",
        "    言語処理学会第26回年次大会論文集，pp.820-823. 2020. (NLP 2020)\n",
        "    [[PDF]](https://www.anlp.jp/proceedings/annual_meeting/2020/pdf_dir/P4-9.pdf)\n",
        "    [[Poster]](https://storage.googleapis.com/megagon-publications/nlp2020/p4-9_hayashibe_poster.pdf)\n",
        "2. Yuta Hayashibe.\n",
        "    Japanese Realistic Textual Entailment Corpus.\n",
        "    Proceedings of The 12th Language Resources and Evaluation Conference, pp.6829-6836. 2020. (LREC 2020)\n",
        "    [[PDF]](https://www.aclweb.org/anthology/2020.lrec-1.843.pdf)\n",
        "    [[bib]](https://www.aclweb.org/anthology/2020.lrec-1.843.bib)"
      ]
    },
    {
      "cell_type": "code",
      "metadata": {
        "colab": {
          "base_uri": "https://localhost:8080/"
        },
        "id": "u1emHpw7UhMM",
        "outputId": "8a58482a-350f-4697-95a9-c733ca4b3af3"
      },
      "source": [
        "!curl -L -O https://raw.githubusercontent.com/megagonlabs/jrte-corpus/master/data/pn.tsv"
      ],
      "execution_count": null,
      "outputs": [
        {
          "output_type": "stream",
          "text": [
            "  % Total    % Received % Xferd  Average Speed   Time    Time     Time  Current\n",
            "                                 Dload  Upload   Total   Spent    Left  Speed\n",
            "\r  0     0    0     0    0     0      0      0 --:--:-- --:--:-- --:--:--     0\r100  473k  100  473k    0     0  4465k      0 --:--:-- --:--:-- --:--:-- 4465k\n"
          ],
          "name": "stdout"
        }
      ]
    },
    {
      "cell_type": "code",
      "metadata": {
        "id": "48gZFLF7WQmd"
      },
      "source": [
        "# 各カラムの意味は https://github.com/megagonlabs/jrte-corpus#datapntsv を参照\n",
        "df = pd.read_csv(\"pn.tsv\", sep='\\t', header=None, \n",
        "                 names=[\"id\", \"label\", \"text\", \"judges\", \"usage\"])\n",
        "\n",
        "# ラベルを 1, 0, -1 --> 0, 1, 2 へ変換\n",
        "# Label:\t2 (Positive), 1 (Neutral), 0 (Negative)\n",
        "df[\"label\"] = df[\"label\"] + 1"
      ],
      "execution_count": null,
      "outputs": []
    },
    {
      "cell_type": "markdown",
      "metadata": {
        "id": "Iqoe862xaW2I"
      },
      "source": [
        "### データの確認"
      ]
    },
    {
      "cell_type": "code",
      "metadata": {
        "colab": {
          "base_uri": "https://localhost:8080/",
          "height": 204
        },
        "id": "lxKArLXRWlzu",
        "outputId": "84957219-1ae8-4c52-9fc3-96d3fea76973"
      },
      "source": [
        "df.head()"
      ],
      "execution_count": null,
      "outputs": [
        {
          "output_type": "execute_result",
          "data": {
            "text/html": [
              "<div>\n",
              "<style scoped>\n",
              "    .dataframe tbody tr th:only-of-type {\n",
              "        vertical-align: middle;\n",
              "    }\n",
              "\n",
              "    .dataframe tbody tr th {\n",
              "        vertical-align: top;\n",
              "    }\n",
              "\n",
              "    .dataframe thead th {\n",
              "        text-align: right;\n",
              "    }\n",
              "</style>\n",
              "<table border=\"1\" class=\"dataframe\">\n",
              "  <thead>\n",
              "    <tr style=\"text-align: right;\">\n",
              "      <th></th>\n",
              "      <th>id</th>\n",
              "      <th>label</th>\n",
              "      <th>text</th>\n",
              "      <th>judges</th>\n",
              "      <th>usage</th>\n",
              "    </tr>\n",
              "  </thead>\n",
              "  <tbody>\n",
              "    <tr>\n",
              "      <th>0</th>\n",
              "      <td>pn17q00001</td>\n",
              "      <td>1</td>\n",
              "      <td>出張でお世話になりました。</td>\n",
              "      <td>{\"0\": 3}</td>\n",
              "      <td>test</td>\n",
              "    </tr>\n",
              "    <tr>\n",
              "      <th>1</th>\n",
              "      <td>pn17q00002</td>\n",
              "      <td>1</td>\n",
              "      <td>朝食は普通でした。</td>\n",
              "      <td>{\"0\": 3}</td>\n",
              "      <td>test</td>\n",
              "    </tr>\n",
              "    <tr>\n",
              "      <th>2</th>\n",
              "      <td>pn17q00003</td>\n",
              "      <td>2</td>\n",
              "      <td>また是非行きたいです。</td>\n",
              "      <td>{\"1\": 3}</td>\n",
              "      <td>test</td>\n",
              "    </tr>\n",
              "    <tr>\n",
              "      <th>3</th>\n",
              "      <td>pn17q00004</td>\n",
              "      <td>2</td>\n",
              "      <td>また利用したいと思えるホテルでした。</td>\n",
              "      <td>{\"1\": 3}</td>\n",
              "      <td>test</td>\n",
              "    </tr>\n",
              "    <tr>\n",
              "      <th>4</th>\n",
              "      <td>pn17q00005</td>\n",
              "      <td>2</td>\n",
              "      <td>駅から近くて便利でした。</td>\n",
              "      <td>{\"0\": 1, \"1\": 2}</td>\n",
              "      <td>test</td>\n",
              "    </tr>\n",
              "  </tbody>\n",
              "</table>\n",
              "</div>"
            ],
            "text/plain": [
              "           id  label                text            judges usage\n",
              "0  pn17q00001      1       出張でお世話になりました。          {\"0\": 3}  test\n",
              "1  pn17q00002      1           朝食は普通でした。          {\"0\": 3}  test\n",
              "2  pn17q00003      2         また是非行きたいです。          {\"1\": 3}  test\n",
              "3  pn17q00004      2  また利用したいと思えるホテルでした。          {\"1\": 3}  test\n",
              "4  pn17q00005      2        駅から近くて便利でした。  {\"0\": 1, \"1\": 2}  test"
            ]
          },
          "metadata": {
            "tags": []
          },
          "execution_count": 14
        }
      ]
    },
    {
      "cell_type": "markdown",
      "metadata": {
        "id": "oo7Hu1YOXhUq"
      },
      "source": [
        "### ラベルごとのデータ件数の確認\n",
        "\n",
        "全体的に、positive なラベルが多いようです。\n",
        "\n",
        "したがって、¥学習の結果 positive に極端に判定されやすいモデルとなってしまう可能性があるため注意が必要です。\n",
        "\n",
        "評価指標に accuracy ではなく、F1 score などの不均衡データに関しても正しく評価できるものを選択する必要があります。"
      ]
    },
    {
      "cell_type": "code",
      "metadata": {
        "colab": {
          "base_uri": "https://localhost:8080/",
          "height": 330
        },
        "id": "Jnry-lq-XSVf",
        "outputId": "2c5e1e71-b46d-465d-a1d4-765eb8739c55"
      },
      "source": [
        "df.groupby([\"usage\", \"label\"]).size().plot(kind='bar')"
      ],
      "execution_count": null,
      "outputs": [
        {
          "output_type": "execute_result",
          "data": {
            "text/plain": [
              "<matplotlib.axes._subplots.AxesSubplot at 0x7f95e4e43150>"
            ]
          },
          "metadata": {
            "tags": []
          },
          "execution_count": 15
        },
        {
          "output_type": "display_data",
          "data": {
            "image/png": "[encoded data removed]",
            "text/plain": [
              "<Figure size 432x288 with 1 Axes>"
            ]
          },
          "metadata": {
            "tags": [],
            "needs_background": "light"
          }
        }
      ]
    },
    {
      "cell_type": "markdown",
      "metadata": {
        "id": "NCI6orTAarJO"
      },
      "source": [
        "### カスタムデータセットに変換\n",
        "\n",
        "後述する huggingface transformers の Trainer クラスで学習を行うために、カスタムデータセットとして準備します。\n",
        "\n",
        "usage が train と dev のサンプルを学習用、test のサンプルをテスト用として分割します。"
      ]
    },
    {
      "cell_type": "code",
      "metadata": {
        "colab": {
          "base_uri": "https://localhost:8080/"
        },
        "id": "7ipbe3XEaofZ",
        "outputId": "51c55722-a340-4771-e991-da226903effc"
      },
      "source": [
        "df_train = df[df[\"usage\"] == (\"train\" or \"val\")]\n",
        "train_docs = df_train[\"text\"].tolist()\n",
        "train_labels = df_train[\"label\"].tolist()\n",
        "len(train_docs)"
      ],
      "execution_count": null,
      "outputs": [
        {
          "output_type": "execute_result",
          "data": {
            "text/plain": [
              "3888"
            ]
          },
          "metadata": {
            "tags": []
          },
          "execution_count": 16
        }
      ]
    },
    {
      "cell_type": "code",
      "metadata": {
        "colab": {
          "base_uri": "https://localhost:8080/"
        },
        "id": "DmGs90iIrS7t",
        "outputId": "63e818c0-a748-4a35-8f6f-475583b858d2"
      },
      "source": [
        "df_test = df[df[\"usage\"] == \"test\"]\n",
        "test_docs = df_test[\"text\"].tolist()\n",
        "test_labels = df_test[\"label\"].tolist()\n",
        "len(test_docs)"
      ],
      "execution_count": null,
      "outputs": [
        {
          "output_type": "execute_result",
          "data": {
            "text/plain": [
              "553"
            ]
          },
          "metadata": {
            "tags": []
          },
          "execution_count": 17
        }
      ]
    },
    {
      "cell_type": "code",
      "metadata": {
        "colab": {
          "base_uri": "https://localhost:8080/",
          "height": 35
        },
        "id": "GODwxE1JxB31",
        "outputId": "3d30753c-144b-408a-96e4-232b8247931e"
      },
      "source": [
        "# GPU が利用できる場合は GPU を利用する\n",
        "\n",
        "device = \"cuda:0\" if torch.cuda.is_available() else \"cpu\"\n",
        "device"
      ],
      "execution_count": null,
      "outputs": [
        {
          "output_type": "execute_result",
          "data": {
            "application/vnd.google.colaboratory.intrinsic+json": {
              "type": "string"
            },
            "text/plain": [
              "'cuda:0'"
            ]
          },
          "metadata": {
            "tags": []
          },
          "execution_count": 18
        }
      ]
    },
    {
      "cell_type": "code",
      "metadata": {
        "id": "euwzh2WVvLsX"
      },
      "source": [
        "model_name = \"cl-tohoku/bert-large-japanese\"\n",
        "\n",
        "model = BertForSequenceClassification.from_pretrained(model_name, num_labels=3)\n",
        "model = model.to(device)\n",
        "tokenizer = BertTokenizer.from_pretrained(model_name)"
      ],
      "execution_count": null,
      "outputs": []
    },
    {
      "cell_type": "code",
      "metadata": {
        "id": "Yn3SxlXSri_3"
      },
      "source": [
        "train_encodings = tokenizer(train_docs, return_tensors='pt', padding=True, truncation=True, max_length=128).to(device)\n",
        "test_encodings = tokenizer(test_docs, return_tensors='pt', padding=True, truncation=True, max_length=128).to(device)"
      ],
      "execution_count": null,
      "outputs": []
    },
    {
      "cell_type": "code",
      "metadata": {
        "id": "XyJPcPUBbCBG"
      },
      "source": [
        "import torch\n",
        "\n",
        "class JpSentiDataset(torch.utils.data.Dataset):\n",
        "    def __init__(self, encodings, labels):\n",
        "        self.encodings = encodings\n",
        "        self.labels = labels\n",
        "\n",
        "    def __getitem__(self, idx):\n",
        "        item = {key: torch.tensor(val[idx]) for key, val in self.encodings.items()}\n",
        "        item['labels'] = torch.tensor(self.labels[idx])\n",
        "        return item\n",
        "\n",
        "    def __len__(self):\n",
        "        return len(self.labels)\n",
        "\n",
        "train_dataset = JpSentiDataset(train_encodings, train_labels)\n",
        "test_dataset = JpSentiDataset(test_encodings, test_labels)"
      ],
      "execution_count": null,
      "outputs": []
    },
    {
      "cell_type": "code",
      "metadata": {
        "id": "Plxw-na37aze"
      },
      "source": [
        "# We can set `requires_grad` to `False` for all the base model parameters in order to fine-tune only the task-specific parameters.\n",
        "# Ref: https://huggingface.co/transformers/training.html#freezing-the-encoder\n",
        "\n",
        "for param in model.base_model.parameters():\n",
        "    param.requires_grad = False\n",
        "\n",
        "# For more detail, see https://korenv20.medium.com/do-we-need-to-freeze-embeddings-when-fine-tuning-our-lm-c8bccf4ffeba"
      ],
      "execution_count": null,
      "outputs": []
    },
    {
      "cell_type": "code",
      "metadata": {
        "id": "NQkKUA7E-dkl"
      },
      "source": [
        "# To calculate additional metrics in addition to the loss, you can also define your own compute_metrics function and pass it to the trainer.\n",
        "\n",
        "from sklearn.metrics import accuracy_score, precision_recall_fscore_support\n",
        "\n",
        "def compute_metrics(pred):\n",
        "    labels = pred.label_ids\n",
        "    preds = pred.predictions.argmax(-1)\n",
        "    precision, recall, f1, _ = precision_recall_fscore_support(labels, preds, average='weighted')\n",
        "    acc = accuracy_score(labels, preds)\n",
        "    return {\n",
        "        'accuracy': acc,\n",
        "        'f1': f1,\n",
        "        'precision': precision,\n",
        "        'recall': recall\n",
        "    }"
      ],
      "execution_count": null,
      "outputs": []
    },
    {
      "cell_type": "code",
      "metadata": {
        "id": "L3ly6REPhm1g"
      },
      "source": [
        "from transformers import Trainer, TrainingArguments\r\n",
        "\r\n",
        "training_args = TrainingArguments(\r\n",
        "    output_dir='./results',          # output directory\r\n",
        "    num_train_epochs=1,              # total number of training epochs\r\n",
        "    per_device_train_batch_size=16,  # batch size per device during training\r\n",
        "    per_device_eval_batch_size=64,   # batch size for evaluation\r\n",
        "    warmup_steps=500,                # number of warmup steps for learning rate scheduler\r\n",
        "    weight_decay=0.01,               # strength of weight decay\r\n",
        "    save_total_limit=1,              # limit the total amount of checkpoints. Deletes the older checkpoints.\r\n",
        "    dataloader_pin_memory=False,  # Whether you want to pin memory in data loaders or not. Will default to True\r\n",
        "    # evaluation_strategy=\"epoch\",     # Evaluation is done at the end of each epoch.\r\n",
        "    evaluation_strategy=\"steps\",\r\n",
        "    logging_steps=50,\r\n",
        "    logging_dir='./logs'\r\n",
        ")\r\n",
        "\r\n",
        "trainer = Trainer(\r\n",
        "    model=model,                         # the instantiated 🤗 Transformers model to be trained\r\n",
        "    args=training_args,                  # training arguments, defined above\r\n",
        "    train_dataset=train_dataset,         # training dataset\r\n",
        "    eval_dataset=test_dataset,             # evaluation dataset\r\n",
        "    compute_metrics=compute_metrics  # The function that will be used to compute metrics at evaluation\r\n",
        ")\r\n",
        "\r\n",
        "trainer.train()"
      ],
      "execution_count": null,
      "outputs": []
    },
    {
      "cell_type": "code",
      "metadata": {
        "id": "iL6tBjkjFcFT"
      },
      "source": [
        "# evaluation のみ実行\n",
        "trainer.evaluate(eval_dataset=test_dataset)"
      ],
      "execution_count": null,
      "outputs": []
    },
    {
      "cell_type": "markdown",
      "metadata": {
        "id": "zZ2OBjGE_tOk"
      },
      "source": [
        "## 評価\n",
        "\n",
        "学習の評価指標はデフォルトでは、 `runs/**CURRENT_DATETIME_HOSTNAME**` に出力されます。\n",
        "\n",
        "tensorboard での可視化が可能です。\n",
        "\n",
        "Ref: https://huggingface.co/transformers/main_classes/trainer.html#trainingarguments\n"
      ]
    },
    {
      "cell_type": "code",
      "metadata": {
        "id": "JXEaLKoK-Lw2"
      },
      "source": [
        "%load_ext tensorboard\n",
        "%tensorboard --logdir logs"
      ],
      "execution_count": null,
      "outputs": []
    },
    {
      "cell_type": "markdown",
      "metadata": {
        "id": "Z-oJJlhAtoJj"
      },
      "source": [
        "## fine tune したモデルで推論\r\n"
      ]
    },
    {
      "cell_type": "code",
      "metadata": {
        "id": "Vik5rX9N0CSr"
      },
      "source": [
        "from transformers import pipeline\r\n",
        "\r\n",
        "sentiment_analyzer = pipeline(\"sentiment-analysis\", model=model.to(\"cpu\"), tokenizer=model_name)"
      ],
      "execution_count": null,
      "outputs": []
    },
    {
      "cell_type": "code",
      "metadata": {
        "id": "1zb7fHMV0jD8"
      },
      "source": [
        "sentiment_analyzer(\"私はこの映画をみることができて、とても嬉しい。\")"
      ],
      "execution_count": null,
      "outputs": []
    },
    {
      "cell_type": "code",
      "metadata": {
        "id": "mmusByR20uwM"
      },
      "source": [
        "sentiment_analyzer(\"猫に足を噛まれて痛い。\")"
      ],
      "execution_count": null,
      "outputs": []
    },
    {
      "cell_type": "code",
      "metadata": {
        "id": "E6SLiGR0KBmD"
      },
      "source": [
        "list_text = [\n",
        "             'この人は、この世の中で、いちばんしあわせな人にちがいありません。',\n",
        "             '芝居小屋もすばらしいし、お客さんもすばらしい人たちでした。',\n",
        "             'もし中世の時代だったら、おそらく、火あぶりにされたでしょうよ。',\n",
        "             'みんなのうるさいことといったら、まるで、ハエがびんの中で、ブンブンいっているようでした。',\n",
        "             'われわれ人間が、こういうことを考えだすことができるとすれば、われわれは、地の中にうめられるまでに、もっと長生きできてもいいはずだが'\n",
        "]"
      ],
      "execution_count": null,
      "outputs": []
    },
    {
      "cell_type": "code",
      "metadata": {
        "id": "OSM1vdlHKJYJ"
      },
      "source": [
        "_ = list(map(lambda x: print(f\"{x}: {sentiment_analyzer(x)}\"), list_text))"
      ],
      "execution_count": null,
      "outputs": []
    },
    {
      "cell_type": "markdown",
      "metadata": {
        "id": "SJxKfbkA64hP"
      },
      "source": [
        "## 学習済みモデルを保存\n",
        "\n",
        "以下では、colab から google drive に保存する場合の例を示します。"
      ]
    },
    {
      "cell_type": "code",
      "metadata": {
        "id": "h0JzlB465_vO"
      },
      "source": [
        "from google.colab import drive\n",
        "drive.mount('/content/drive')"
      ],
      "execution_count": null,
      "outputs": []
    },
    {
      "cell_type": "code",
      "metadata": {
        "id": "Z0ek_8EE6QjB"
      },
      "source": [
        "save_directory = \"/content/drive/MyDrive/Colab Notebooks/trained_models/20210313_bert_sentiment_v3\"\n",
        "\n",
        "tokenizer.save_pretrained(save_directory)\n",
        "model.save_pretrained(save_directory)"
      ],
      "execution_count": null,
      "outputs": []
    },
    {
      "cell_type": "code",
      "metadata": {
        "id": "7mGL0p3wrbvs"
      },
      "source": [
        ""
      ],
      "execution_count": null,
      "outputs": []
    }
  ]
}